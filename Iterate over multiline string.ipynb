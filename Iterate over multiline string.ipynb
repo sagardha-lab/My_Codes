{
 "cells": [
  {
   "cell_type": "code",
   "execution_count": 1,
   "metadata": {},
   "outputs": [
    {
     "name": "stdout",
     "output_type": "stream",
     "text": [
      "Overwriting string_test.txt\n"
     ]
    }
   ],
   "source": [
    "%%writefile string_test.txt\n",
    "2\n",
    "6\n",
    "03 10103538 2222 1233 6160 0142\n",
    "03 10103538 2222 1233 6160 0141\n",
    "30 10103538 2222 1233 6160 0141\n",
    "30 10103538 2222 1233 6160 0142\n",
    "30 10103538 2222 1233 6160 0141\n",
    "30 10103538 2222 1233 6160 0142\n",
    "\n",
    "5\n",
    "30 10103538 2222 1233 6160 0144\n",
    "30 10103538 2222 1233 6160 0142\n",
    "30 10103538 2222 1233 6160 0145\n",
    "30 10103538 2222 1233 6160 0146\n",
    "30 10103538 2222 1233 6160 0143"
   ]
  },
  {
   "cell_type": "code",
   "execution_count": 2,
   "metadata": {},
   "outputs": [],
   "source": [
    "myfile = open('string_test.txt')"
   ]
  },
  {
   "cell_type": "code",
   "execution_count": 3,
   "metadata": {},
   "outputs": [],
   "source": [
    "test_string = ''\n",
    "for i in myfile.readlines():\n",
    "    test_string += i"
   ]
  },
  {
   "cell_type": "code",
   "execution_count": 4,
   "metadata": {},
   "outputs": [
    {
     "name": "stdout",
     "output_type": "stream",
     "text": [
      "2\n",
      "6\n",
      "03 10103538 2222 1233 6160 0142\n",
      "03 10103538 2222 1233 6160 0141\n",
      "30 10103538 2222 1233 6160 0141\n",
      "30 10103538 2222 1233 6160 0142\n",
      "30 10103538 2222 1233 6160 0141\n",
      "30 10103538 2222 1233 6160 0142\n",
      "\n",
      "5\n",
      "30 10103538 2222 1233 6160 0144\n",
      "30 10103538 2222 1233 6160 0142\n",
      "30 10103538 2222 1233 6160 0145\n",
      "30 10103538 2222 1233 6160 0146\n",
      "30 10103538 2222 1233 6160 0143\n",
      "\n"
     ]
    }
   ],
   "source": [
    "print(test_string)"
   ]
  },
  {
   "cell_type": "code",
   "execution_count": 33,
   "metadata": {},
   "outputs": [
    {
     "data": {
      "text/plain": [
       "0"
      ]
     },
     "execution_count": 33,
     "metadata": {},
     "output_type": "execute_result"
    }
   ],
   "source": [
    "myfile.seek(0)"
   ]
  },
  {
   "cell_type": "code",
   "execution_count": 6,
   "metadata": {},
   "outputs": [],
   "source": [
    "string_list = test_string.split('\\n')"
   ]
  },
  {
   "cell_type": "code",
   "execution_count": 8,
   "metadata": {},
   "outputs": [
    {
     "data": {
      "text/plain": [
       "''"
      ]
     },
     "execution_count": 8,
     "metadata": {},
     "output_type": "execute_result"
    }
   ],
   "source": [
    "string_list.pop(len(string_list)-1)"
   ]
  },
  {
   "cell_type": "code",
   "execution_count": null,
   "metadata": {},
   "outputs": [],
   "source": [
    "account_lst = []\n",
    "for i in test_string.split('\\n'):\n",
    "    if len(i) == 36:\n",
    "        account_lst.append(i)\n",
    "    else:\n",
    "        print(len(i))"
   ]
  },
  {
   "cell_type": "code",
   "execution_count": 11,
   "metadata": {},
   "outputs": [],
   "source": [
    "from collections import Counter"
   ]
  },
  {
   "cell_type": "code",
   "execution_count": 14,
   "metadata": {},
   "outputs": [],
   "source": [
    "accnt_list = []\n",
    "inputData = ''\n",
    "total_string = ''\n",
    "temp_data = ''\n",
    "all_list = []\n",
    "for i in range(len(string_list)):\n",
    "    if len(string_list[i]) == 31:\n",
    "        accnt_list.append(string_list[i])\n",
    "    elif len(string_list[i]) == 0:\n",
    "        accnt_list.sort()\n",
    "        dict1 = Counter(accnt_list)\n",
    "        for i in dict1:\n",
    "            temp = i + ' ' + str(dict1[i]) + '\\n'\n",
    "            temp_data += temp\n",
    "        all_list.append(temp_data)\n",
    "        temp_data = ''\n",
    "        accnt_list = []\n",
    "        \n",
    "    if i == (len(string_list)-1) and len(accnt_list) > 0:\n",
    "        accnt_list.sort()\n",
    "        dict1 = Counter(accnt_list)\n",
    "        for i in dict1:\n",
    "            temp = i + ' ' + str(dict1[i]) + '\\n'\n",
    "            temp_data += temp\n",
    "        all_list.append(temp_data)\n",
    "        \n",
    "inputData = '\\n'.join(all_list)"
   ]
  },
  {
   "cell_type": "code",
   "execution_count": 15,
   "metadata": {},
   "outputs": [
    {
     "name": "stdout",
     "output_type": "stream",
     "text": [
      "03 10103538 2222 1233 6160 0141 1\n",
      "03 10103538 2222 1233 6160 0142 1\n",
      "30 10103538 2222 1233 6160 0141 2\n",
      "30 10103538 2222 1233 6160 0142 2\n",
      "\n",
      "30 10103538 2222 1233 6160 0142 1\n",
      "30 10103538 2222 1233 6160 0143 1\n",
      "30 10103538 2222 1233 6160 0144 1\n",
      "30 10103538 2222 1233 6160 0145 1\n",
      "30 10103538 2222 1233 6160 0146 1\n",
      "\n"
     ]
    }
   ],
   "source": [
    "print(inputData)"
   ]
  },
  {
   "cell_type": "code",
   "execution_count": 7,
   "metadata": {},
   "outputs": [],
   "source": [
    "from collections import Counter"
   ]
  },
  {
   "cell_type": "code",
   "execution_count": 53,
   "metadata": {},
   "outputs": [],
   "source": [
    "lst1 = [1,2,3]"
   ]
  },
  {
   "cell_type": "code",
   "execution_count": 55,
   "metadata": {},
   "outputs": [
    {
     "data": {
      "text/plain": [
       "1"
      ]
     },
     "execution_count": 55,
     "metadata": {},
     "output_type": "execute_result"
    }
   ],
   "source": [
    "lst1.pop(0)"
   ]
  },
  {
   "cell_type": "code",
   "execution_count": 56,
   "metadata": {},
   "outputs": [
    {
     "data": {
      "text/plain": [
       "[2, 3]"
      ]
     },
     "execution_count": 56,
     "metadata": {},
     "output_type": "execute_result"
    }
   ],
   "source": [
    "lst1"
   ]
  },
  {
   "cell_type": "code",
   "execution_count": 8,
   "metadata": {},
   "outputs": [],
   "source": [
    "dict1 = Counter(account_lst)"
   ]
  },
  {
   "cell_type": "code",
   "execution_count": 16,
   "metadata": {},
   "outputs": [
    {
     "name": "stdout",
     "output_type": "stream",
     "text": [
      "30 12345678 4143 6616 9000 5391 2640 1\n",
      "30 12345678 4143 6616 9000 5391 2642 1\n",
      "30 12345678 4143 6616 9000 5391 2630 1\n",
      "30 12345678 4143 6616 9000 5391 2631 2\n",
      "30 12345678 4143 6616 9000 5391 2634 1\n",
      "30 12345678 4143 6616 9000 5391 2635 1\n",
      "30 12345678 4143 6616 9000 5391 2636 2\n",
      "30 12345678 4143 6616 9000 5391 2637 2\n"
     ]
    }
   ],
   "source": [
    "for i in dict1:\n",
    "    temp = i + ' ' + str(dict1[i])\n",
    "    print(temp)"
   ]
  },
  {
   "cell_type": "code",
   "execution_count": 11,
   "metadata": {},
   "outputs": [
    {
     "data": {
      "text/plain": [
       "Counter({'30 12345678 4143 6616 9000 5391 2640': 1,\n",
       "         '30 12345678 4143 6616 9000 5391 2642': 1,\n",
       "         '30 12345678 4143 6616 9000 5391 2630': 1,\n",
       "         '30 12345678 4143 6616 9000 5391 2631': 2,\n",
       "         '30 12345678 4143 6616 9000 5391 2634': 1,\n",
       "         '30 12345678 4143 6616 9000 5391 2635': 1,\n",
       "         '30 12345678 4143 6616 9000 5391 2636': 2,\n",
       "         '30 12345678 4143 6616 9000 5391 2637': 2})"
      ]
     },
     "execution_count": 11,
     "metadata": {},
     "output_type": "execute_result"
    }
   ],
   "source": [
    "dict1"
   ]
  },
  {
   "cell_type": "code",
   "execution_count": null,
   "metadata": {},
   "outputs": [],
   "source": []
  }
 ],
 "metadata": {
  "kernelspec": {
   "display_name": "Python 3",
   "language": "python",
   "name": "python3"
  },
  "language_info": {
   "codemirror_mode": {
    "name": "ipython",
    "version": 3
   },
   "file_extension": ".py",
   "mimetype": "text/x-python",
   "name": "python",
   "nbconvert_exporter": "python",
   "pygments_lexer": "ipython3",
   "version": "3.8.5"
  },
  "toc": {
   "base_numbering": 1,
   "nav_menu": {},
   "number_sections": true,
   "sideBar": true,
   "skip_h1_title": false,
   "title_cell": "Table of Contents",
   "title_sidebar": "Contents",
   "toc_cell": false,
   "toc_position": {},
   "toc_section_display": true,
   "toc_window_display": false
  }
 },
 "nbformat": 4,
 "nbformat_minor": 4
}
