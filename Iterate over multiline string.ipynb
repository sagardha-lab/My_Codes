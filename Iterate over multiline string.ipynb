{
 "cells": [
  {
   "cell_type": "code",
   "execution_count": 52,
   "metadata": {},
   "outputs": [
    {
     "name": "stdout",
     "output_type": "stream",
     "text": [
      "Overwriting string_test.txt\n"
     ]
    }
   ],
   "source": [
    "%%writefile string_test.txt\n",
    "5\n",
    "6\n",
    "30 12345678 4143 6616 9000 5391 2640\n",
    "30 12345678 4143 6616 9000 5391 2642\n",
    "30 12345678 4143 6616 9000 5391 2630\n",
    "30 12345678 4143 6616 9000 5391 2631\n",
    "30 12345678 4143 6616 9000 5391 2631\n",
    "30 12345678 4143 6616 9000 5391 2634\n",
    "\n",
    "5\n",
    "30 12345678 4143 6616 9000 5391 2635\n",
    "30 12345678 4143 6616 9000 5391 2636\n",
    "30 12345678 4143 6616 9000 5391 2637\n",
    "30 12345678 4143 6616 9000 5391 2636\n",
    "30 12345678 4143 6616 9000 5391 2637"
   ]
  },
  {
   "cell_type": "code",
   "execution_count": 53,
   "metadata": {},
   "outputs": [],
   "source": [
    "myfile = open('string_test.txt')"
   ]
  },
  {
   "cell_type": "code",
   "execution_count": 54,
   "metadata": {},
   "outputs": [],
   "source": [
    "test_string = ''\n",
    "for i in myfile.readlines():\n",
    "    test_string += i"
   ]
  },
  {
   "cell_type": "code",
   "execution_count": 55,
   "metadata": {},
   "outputs": [
    {
     "data": {
      "text/plain": [
       "0"
      ]
     },
     "execution_count": 55,
     "metadata": {},
     "output_type": "execute_result"
    }
   ],
   "source": [
    "myfile.seek(0)"
   ]
  },
  {
   "cell_type": "code",
   "execution_count": 56,
   "metadata": {},
   "outputs": [],
   "source": [
    "account_lst = []\n",
    "for i in test_string.split('\\n'):\n",
    "    if len(i) == 36:\n",
    "        account_lst.append(i)"
   ]
  },
  {
   "cell_type": "code",
   "execution_count": 57,
   "metadata": {},
   "outputs": [],
   "source": [
    "from collections import Counter"
   ]
  },
  {
   "cell_type": "code",
   "execution_count": 65,
   "metadata": {},
   "outputs": [],
   "source": [
    "account_lst.sort?"
   ]
  },
  {
   "cell_type": "code",
   "execution_count": 63,
   "metadata": {},
   "outputs": [],
   "source": [
    "dict1 = Counter(account_lst)"
   ]
  },
  {
   "cell_type": "code",
   "execution_count": 64,
   "metadata": {},
   "outputs": [
    {
     "data": {
      "text/plain": [
       "Counter({'30 12345678 4143 6616 9000 5391 2630': 1,\n",
       "         '30 12345678 4143 6616 9000 5391 2631': 2,\n",
       "         '30 12345678 4143 6616 9000 5391 2634': 1,\n",
       "         '30 12345678 4143 6616 9000 5391 2635': 1,\n",
       "         '30 12345678 4143 6616 9000 5391 2636': 2,\n",
       "         '30 12345678 4143 6616 9000 5391 2637': 2,\n",
       "         '30 12345678 4143 6616 9000 5391 2640': 1,\n",
       "         '30 12345678 4143 6616 9000 5391 2642': 1})"
      ]
     },
     "execution_count": 64,
     "metadata": {},
     "output_type": "execute_result"
    }
   ],
   "source": [
    "dict1"
   ]
  },
  {
   "cell_type": "code",
   "execution_count": null,
   "metadata": {},
   "outputs": [],
   "source": []
  }
 ],
 "metadata": {
  "kernelspec": {
   "display_name": "Python 3",
   "language": "python",
   "name": "python3"
  },
  "language_info": {
   "codemirror_mode": {
    "name": "ipython",
    "version": 3
   },
   "file_extension": ".py",
   "mimetype": "text/x-python",
   "name": "python",
   "nbconvert_exporter": "python",
   "pygments_lexer": "ipython3",
   "version": "3.8.5"
  },
  "toc": {
   "base_numbering": 1,
   "nav_menu": {},
   "number_sections": true,
   "sideBar": true,
   "skip_h1_title": false,
   "title_cell": "Table of Contents",
   "title_sidebar": "Contents",
   "toc_cell": false,
   "toc_position": {},
   "toc_section_display": true,
   "toc_window_display": false
  }
 },
 "nbformat": 4,
 "nbformat_minor": 4
}
